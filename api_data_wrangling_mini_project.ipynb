{
 "cells": [
  {
   "cell_type": "markdown",
   "source": [
    "This exercise will require you to pull some data from the Qunadl API. Qaundl is currently the most widely used aggregator of financial market data."
   ],
   "metadata": {}
  },
  {
   "cell_type": "markdown",
   "source": [
    "As a first step, you will need to register a free account on the http://www.quandl.com website."
   ],
   "metadata": {}
  },
  {
   "cell_type": "markdown",
   "source": [
    "After you register, you will be provided with a unique API key, that you should store:"
   ],
   "metadata": {}
  },
  {
   "cell_type": "code",
   "execution_count": 2,
   "source": [
    "# Store the API key as a string - according to PEP8, constants are always named in all upper case\n",
    "API_KEY = '8kZe4FR1zrzEvQAyxcGV'"
   ],
   "outputs": [],
   "metadata": {
    "collapsed": true,
    "jupyter": {
     "outputs_hidden": true
    }
   }
  },
  {
   "cell_type": "markdown",
   "source": [
    "Qaundl has a large number of data sources, but, unfortunately, most of them require a Premium subscription. Still, there are also a good number of free datasets."
   ],
   "metadata": {}
  },
  {
   "cell_type": "markdown",
   "source": [
    "For this mini project, we will focus on equities data from the Frankfurt Stock Exhange (FSE), which is available for free. We'll try and analyze the stock prices of a company called Carl Zeiss Meditec, which manufactures tools for eye examinations, as well as medical lasers for laser eye surgery: https://www.zeiss.com/meditec/int/home.html. The company is listed under the stock ticker AFX_X."
   ],
   "metadata": {}
  },
  {
   "cell_type": "markdown",
   "source": [
    "You can find the detailed Quandl API instructions here: https://docs.quandl.com/docs/time-series"
   ],
   "metadata": {}
  },
  {
   "cell_type": "markdown",
   "source": [
    "While there is a dedicated Python package for connecting to the Quandl API, we would prefer that you use the *requests* package, which can be easily downloaded using *pip* or *conda*. You can find the documentation for the package here: http://docs.python-requests.org/en/master/ "
   ],
   "metadata": {}
  },
  {
   "cell_type": "markdown",
   "source": [
    "Finally, apart from the *requests* package, you are encouraged to not use any third party Python packages, such as *pandas*, and instead focus on what's available in the Python Standard Library (the *collections* module might come in handy: https://pymotw.com/3/collections/ ).\n",
    "Also, since you won't have access to DataFrames, you are encouraged to us Python's native data structures - preferably dictionaries, though some questions can also be answered using lists.\n",
    "You can read more on these data structures here: https://docs.python.org/3/tutorial/datastructures.html"
   ],
   "metadata": {}
  },
  {
   "cell_type": "markdown",
   "source": [
    "Keep in mind that the JSON responses you will be getting from the API map almost one-to-one to Python's dictionaries. Unfortunately, they can be very nested, so make sure you read up on indexing dictionaries in the documentation provided above."
   ],
   "metadata": {}
  },
  {
   "cell_type": "code",
   "execution_count": 4,
   "source": [
    "# First, import the relevant modules\n",
    "# Import package\n",
    "import requests\n",
    "import json\n"
   ],
   "outputs": [],
   "metadata": {
    "collapsed": true,
    "jupyter": {
     "outputs_hidden": true
    }
   }
  },
  {
   "cell_type": "markdown",
   "source": [
    "Note: API's can change a bit with each version, for this exercise it is reccomended to use the \"V3\" quandl api at `https://www.quandl.com/api/v3/`"
   ],
   "metadata": {}
  },
  {
   "cell_type": "code",
   "execution_count": 12,
   "source": [
    "# Now, call the Quandl API and pull out a small sample of the data (only one day) to get a glimpse\n",
    "# into the JSON structure that will be returned\n",
    "url = 'https://www.quandl.com/api/v3/datasets/XNAS/ACIW?start_date=2021-06-20&end_date=2021-06-23&api_key=8kZe4FR1zrzEvQAyxcGV'\n",
    "r = requests.get(url)\n",
    "json_data = r.json()\n",
    "\n",
    "for key, value in json_data.items():\n",
    "    print(key +':', value)"
   ],
   "outputs": [
    {
     "output_type": "stream",
     "name": "stdout",
     "text": [
      "dataset: {'id': 37908491, 'dataset_code': 'ACIW', 'database_code': 'XNAS', 'name': 'ACI Worldwide Inc (ACIW) Adjusted Stock Prices', 'description': ' <b>Ticker</b>: ACIW <br> <br> <b>Exchange</b>: XNAS <br> <br> Columns: <br> <br> Open,High,Low,Close,Volume are adjusted and shown in USD currency. <br> <br> Adjustment Factor shows the factor by which prices are adjusted on days which adjustments take place <br> <br> Adjustment Type is a number representing the type of adjustment. Refer to documentation for more information on these codes.', 'refreshed_at': '2021-07-22T21:50:58.201Z', 'newest_available_date': '2018-12-31', 'oldest_available_date': '2010-01-01', 'column_names': ['Date', 'Open', 'High', 'Low', 'Close', 'Volume', 'Adjustment Factor', 'Adjustment Type'], 'frequency': 'daily', 'type': 'Time Series', 'premium': True, 'limit': None, 'transform': None, 'column_index': None, 'start_date': '2021-06-20', 'end_date': '2018-12-31', 'data': [], 'collapse': None, 'order': None, 'database_id': 14999}\n"
     ]
    }
   ],
   "metadata": {
    "collapsed": true,
    "jupyter": {
     "outputs_hidden": true
    }
   }
  },
  {
   "cell_type": "code",
   "execution_count": 13,
   "source": [
    "# Inspect the JSON structure of the object you created, and take note of how nested it is,\n",
    "# as well as the overall structure\n",
    "print(json_data)"
   ],
   "outputs": [
    {
     "output_type": "stream",
     "name": "stdout",
     "text": [
      "{'dataset': {'id': 37908491, 'dataset_code': 'ACIW', 'database_code': 'XNAS', 'name': 'ACI Worldwide Inc (ACIW) Adjusted Stock Prices', 'description': ' <b>Ticker</b>: ACIW <br> <br> <b>Exchange</b>: XNAS <br> <br> Columns: <br> <br> Open,High,Low,Close,Volume are adjusted and shown in USD currency. <br> <br> Adjustment Factor shows the factor by which prices are adjusted on days which adjustments take place <br> <br> Adjustment Type is a number representing the type of adjustment. Refer to documentation for more information on these codes.', 'refreshed_at': '2021-07-22T21:50:58.201Z', 'newest_available_date': '2018-12-31', 'oldest_available_date': '2010-01-01', 'column_names': ['Date', 'Open', 'High', 'Low', 'Close', 'Volume', 'Adjustment Factor', 'Adjustment Type'], 'frequency': 'daily', 'type': 'Time Series', 'premium': True, 'limit': None, 'transform': None, 'column_index': None, 'start_date': '2021-06-20', 'end_date': '2018-12-31', 'data': [], 'collapse': None, 'order': None, 'database_id': 14999}}\n"
     ]
    }
   ],
   "metadata": {
    "collapsed": true,
    "jupyter": {
     "outputs_hidden": true
    }
   }
  },
  {
   "cell_type": "markdown",
   "source": [
    "These are your tasks for this mini project:\n",
    "\n",
    "1. Collect data from the Franfurt Stock Exchange, for the ticker AFX_X, for the whole year 2017 (keep in mind that the date format is YYYY-MM-DD).\n",
    "2. Convert the returned JSON object into a Python dictionary.\n",
    "3. Calculate what the highest and lowest opening prices were for the stock in this period.\n",
    "4. What was the largest change in any one day (based on High and Low price)?\n",
    "5. What was the largest change between any two days (based on Closing Price)?\n",
    "6. What was the average daily trading volume during this year?\n",
    "7. (Optional) What was the median trading volume during this year. (Note: you may need to implement your own function for calculating the median.)"
   ],
   "metadata": {}
  },
  {
   "cell_type": "code",
   "execution_count": 22,
   "source": [
    "# Task 1: Collect data from the Franfurt Stock Exchange, for the ticker AFX_X, for the whole year 2017\n",
    "url = 'https://www.quandl.com/api/v3/datasets/FSE/AFX_X.json?start_date=2017-01-01&end_date=2017-12-31&api_key=8kZe4FR1zrzEvQAyxcGV'\n",
    "r = requests.get(url)\n",
    "\n",
    "# Task 2: Convert the JSON object into a Python dictionary\n",
    "json_data = r.json()"
   ],
   "outputs": [],
   "metadata": {
    "collapsed": true,
    "jupyter": {
     "outputs_hidden": true
    }
   }
  },
  {
   "cell_type": "code",
   "execution_count": 77,
   "source": [
    "# Task 3: Calculate the highest and lowest opening prices\n",
    "data = json_data['dataset']['data']\n",
    "\n",
    "opening_price_list = []\n",
    "for value in data:\n",
    "    opening_price_list.append(value[1])\n",
    "\n",
    "# Removing null value in the list\n",
    "opening_price_list = list(filter(None, opening_price_list))\n",
    "opening_price_list.sort()\n",
    "\n",
    "# Answering the question 3\n",
    "print('The highest opening price is', opening_price_list[-1])\n",
    "print('The lowest opening price is', opening_price_list[0])"
   ],
   "outputs": [
    {
     "output_type": "stream",
     "name": "stdout",
     "text": [
      "The highest opening price is 53.11\n",
      "The lowest opening price is 34.0\n"
     ]
    }
   ],
   "metadata": {}
  },
  {
   "cell_type": "code",
   "execution_count": 73,
   "source": [
    "# Task 4: What was the largest change in any one day (based on High and Low price)?\n",
    "\n",
    "price_change = []\n",
    "for value in data:\n",
    "    x = value[2] - value[3]\n",
    "    price_change.append(x)\n",
    "\n",
    "print('The largest change in any one day was', max(price_change))"
   ],
   "outputs": [
    {
     "output_type": "stream",
     "name": "stdout",
     "text": [
      "The largest change in any one day was 2.8100000000000023\n"
     ]
    }
   ],
   "metadata": {}
  },
  {
   "cell_type": "code",
   "execution_count": 74,
   "source": [
    "# Task 5: What was the largest change between any two days (based on Closing Price)?\n",
    "\n",
    "closing_price_list = []\n",
    "for value in data:\n",
    "    closing_price_list.append(value[4])\n",
    "\n",
    "# Calculating difference between any two days\n",
    "diff_list = []\n",
    "for i in range(1, len(closing_price_list)):\n",
    "    x = abs(closing_price_list[i] - closing_price_list[i-1])\n",
    "    diff_list.append(x)\n",
    "\n",
    "# Answer the question\n",
    "print('The largest change between any two days was', max(diff_list))"
   ],
   "outputs": [
    {
     "output_type": "stream",
     "name": "stdout",
     "text": [
      "The largest change between any two days was 2.559999999999995\n"
     ]
    }
   ],
   "metadata": {}
  },
  {
   "cell_type": "code",
   "execution_count": 76,
   "source": [
    "# Task 6: What was the average daily trading volume during this year?\n",
    "\n",
    "trading_volume = []\n",
    "for value in data:\n",
    "    trading_volume.append(value[6])\n",
    "\n",
    "print('The average trading volume was', sum(trading_volume)/len(trading_volume))"
   ],
   "outputs": [
    {
     "output_type": "stream",
     "name": "stdout",
     "text": [
      "The average trading volume was 89124.33725490196\n"
     ]
    }
   ],
   "metadata": {}
  },
  {
   "cell_type": "code",
   "execution_count": 81,
   "source": [
    "# Task 7: What was the median trading volume during this year?\n",
    "trading_volume.sort()\n",
    "x = len(trading_volume)\n",
    "if x % 2 == 0:\n",
    "    median1 = trading_volume[x//2]\n",
    "    median2 = trading_volume[x//2 -1]\n",
    "    median = (median1 + median2)/2\n",
    "else:\n",
    "    median = trading_volume[x//2] \n",
    "print('The median trading volume was', median)"
   ],
   "outputs": [
    {
     "output_type": "stream",
     "name": "stdout",
     "text": [
      "The median trading volume was 76286.0\n"
     ]
    }
   ],
   "metadata": {}
  }
 ],
 "metadata": {
  "kernelspec": {
   "name": "python3",
   "display_name": "Python 3.9.2 64-bit ('APIMiniProject-5GLZg1Mm')"
  },
  "language_info": {
   "codemirror_mode": {
    "name": "ipython",
    "version": 3
   },
   "file_extension": ".py",
   "mimetype": "text/x-python",
   "name": "python",
   "nbconvert_exporter": "python",
   "pygments_lexer": "ipython3",
   "version": "3.9.2"
  },
  "interpreter": {
   "hash": "8ea17cd87e90f85de3a6ff3aa1caa91bebe9c89d6b41e01bcfcf7f6a16d299ff"
  }
 },
 "nbformat": 4,
 "nbformat_minor": 4
}